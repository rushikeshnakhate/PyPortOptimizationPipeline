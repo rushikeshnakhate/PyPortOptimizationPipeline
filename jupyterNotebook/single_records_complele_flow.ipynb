{
 "cells": [
  {
   "cell_type": "markdown",
   "metadata": {
    "id": "view-in-github",
    "colab_type": "text"
   },
   "source": [
    "<a href=\"https://colab.research.google.com/github/rushikeshnakhate/PortfoliOpt/blob/master/multiple_dates_expected_return_df_visualization.ipynb\" target=\"_parent\"><img src=\"https://colab.research.google.com/assets/colab-badge.svg\" alt=\"Open In Colab\"/></a>"
   ]
  },
  {
   "cell_type": "code",
   "metadata": {
    "id": "TIwekf_p2VYr",
    "colab": {
     "base_uri": "https://localhost:8080/"
    },
    "outputId": "21dcdce5-9c88-4100-f827-d2ac7413bd45",
    "ExecuteTime": {
     "end_time": "2024-10-27T09:40:24.538433Z",
     "start_time": "2024-10-27T09:40:24.513082Z"
    }
   },
   "source": [
    "# # Mount Google Drive\n",
    "# from google.colab import drive\n",
    "# drive.mount('/content/drive')\n",
    "\n",
    "# data_dir = Path(\"/content/drive/MyDrive/data\")\n",
    "# !pip install tqdm\n",
    "# !pip install PyPortfolioOpt\n",
    "# !pip install tabulate\n",
    "# !pip install dtale\n",
    "# !pip install -q data-table\n",
    "# from google.colab import data_table"
   ],
   "outputs": [],
   "execution_count": 44
  },
  {
   "cell_type": "code",
   "metadata": {
    "id": "yQypJYR_3ZKx",
    "ExecuteTime": {
     "end_time": "2024-10-27T09:40:26.092872Z",
     "start_time": "2024-10-27T09:40:26.077154Z"
    }
   },
   "source": [
    "import os\n",
    "from pathlib import Path\n",
    "import pandas as pd\n",
    "from tabulate import tabulate\n",
    "data_dir = Path(r\"D:\\PortfoliOpt\\data\")"
   ],
   "outputs": [],
   "execution_count": 45
  },
  {
   "metadata": {
    "ExecuteTime": {
     "end_time": "2024-10-27T09:41:08.017198Z",
     "start_time": "2024-10-27T09:41:08.004833Z"
    }
   },
   "cell_type": "code",
   "source": [
    "def load_all_pickles_to_dfs(directory):\n",
    "    \"\"\"\n",
    "    Reads all .pkl files in the specified directory and loads each file into a DataFrame.\n",
    "    \n",
    "    Parameters:\n",
    "    - directory (str): The path to the directory containing .pkl files.\n",
    "\n",
    "    Returns:\n",
    "    - dict: A dictionary where keys are file names without extensions and values are DataFrames.\n",
    "    \"\"\"\n",
    "    dataframes = {}\n",
    "    for filename in os.listdir(directory):\n",
    "        if filename.endswith(\".pkl\"):\n",
    "            file_path = os.path.join(directory, filename)\n",
    "            try:\n",
    "                df = pd.read_pickle(file_path)\n",
    "                dataframes[filename[:-4]] = df  # Using filename without .pkl extension as the key\n",
    "            except Exception as e:\n",
    "                print(f\"Error reading {filename}: {e}\")\n",
    "    return dataframes"
   ],
   "outputs": [],
   "execution_count": 51
  },
  {
   "metadata": {
    "ExecuteTime": {
     "end_time": "2024-10-27T09:41:08.204910Z",
     "start_time": "2024-10-27T09:41:08.186102Z"
    }
   },
   "cell_type": "code",
   "source": [
    "from datetime import datetime, timedelta\n",
    "\n",
    "\n",
    "def generate_month_date_ranges(year, months=None):\n",
    "    if months is None:\n",
    "        months = range(1, 13)  # Default to all months if none specified\n",
    "\n",
    "    month_ranges = []\n",
    "    for month in months:\n",
    "        start_date = datetime(year, month, 1).date()\n",
    "        if month == 12:\n",
    "            end_date = (datetime(year + 1, 1, 1) - timedelta(days=1)).date()\n",
    "        else:\n",
    "            end_date = (datetime(year, month + 1, 1) - timedelta(days=1)).date()\n",
    "        month_ranges.append((start_date, end_date))\n",
    "    return month_ranges\n",
    "\n",
    "\n",
    "def create_current_month_directory(start_date):\n",
    "    current_month = start_date.strftime(\"%Y%m\")\n",
    "    current_month_dir = data_dir / current_month\n",
    "    return current_month_dir"
   ],
   "outputs": [],
   "execution_count": 52
  },
  {
   "metadata": {
    "ExecuteTime": {
     "end_time": "2024-10-27T10:18:31.563302Z",
     "start_time": "2024-10-27T10:18:31.536903Z"
    }
   },
   "cell_type": "code",
   "source": [
    "if __name__ == \"__main__\":\n",
    "    year = 2023\n",
    "    alternate_months = [1]\n",
    "    month_ranges = generate_month_date_ranges(year, months=alternate_months)\n",
    "\n",
    "    for start_date, end_date in month_ranges:\n",
    "        all_pkl_file_dir = create_current_month_directory(start_date=start_date)\n",
    "        all_dfs =load_all_pickles_to_dfs(all_pkl_file_dir)\n",
    "        for file_name, df in all_dfs.items():\n",
    "            print(f\"DataFrame from {file_name}.pkl\")\n",
    "            # print(df)\n",
    "            print(tabulate(df, headers='keys', tablefmt='pretty')) "
   ],
   "outputs": [
    {
     "name": "stdout",
     "output_type": "stream",
     "text": [
      "DataFrame from expected_return_all_type.pkl\n",
      "+-------------+---------------------+--------------------------------+---------------------+--------------------------+---------------------+----------------------+--------------------+------------------------+----------------------+\n",
      "|   ticker    |     ARIMAReturn     | ArithmeticMeanHistoricalReturn |     CAPMReturn      | CAGRMeanHistoricalReturn | EMAHistoricalReturn |   FamaFrenchReturn   | GordonGrowthReturn | LinearRegressionReturn |   RiskParityReturn   |\n",
      "+-------------+---------------------+--------------------------------+---------------------+--------------------------+---------------------+----------------------+--------------------+------------------------+----------------------+\n",
      "| HDFCBANK.NS | -0.9909148627792532 |      -0.09813540825219705      | -0.5087999518127654 |   -0.11220745831419299   | -0.0929687744013753 | -0.06813540825219705 |       0.4092       | -0.026009446371546563  | -0.09813540825219705 |\n",
      "| RELIANCE.NS |  4.254080063798845  |      -1.1430589138971423       | -0.4303008389493678 |   -0.6872737758633587    | -0.6835972468991465 | -1.1130589138971423  |      -0.0442       |  -0.7914235697943098   | -1.1430589138971423  |\n",
      "+-------------+---------------------+--------------------------------+---------------------+--------------------------+---------------------+----------------------+--------------------+------------------------+----------------------+\n",
      "DataFrame from expected_return_ARIMAReturn.pkl\n",
      "+-------------+---------------------+\n",
      "|   ticker    |     ARIMAReturn     |\n",
      "+-------------+---------------------+\n",
      "| HDFCBANK.NS | -0.9909148627792532 |\n",
      "| RELIANCE.NS |  4.254080063798845  |\n",
      "+-------------+---------------------+\n",
      "DataFrame from expected_return_ArithmeticMeanHistoricalReturn.pkl\n",
      "+-------------+--------------------------------+\n",
      "|   ticker    | ArithmeticMeanHistoricalReturn |\n",
      "+-------------+--------------------------------+\n",
      "| HDFCBANK.NS |      -0.09813540825219705      |\n",
      "| RELIANCE.NS |      -1.1430589138971423       |\n",
      "+-------------+--------------------------------+\n",
      "DataFrame from expected_return_BlackLittermanReturn.pkl\n",
      "\n",
      "DataFrame from expected_return_CAGRMeanHistoricalReturn.pkl\n",
      "+-------------+--------------------------+\n",
      "|   ticker    | CAGRMeanHistoricalReturn |\n",
      "+-------------+--------------------------+\n",
      "| HDFCBANK.NS |   -0.11220745831419299   |\n",
      "| RELIANCE.NS |   -0.6872737758633587    |\n",
      "+-------------+--------------------------+\n",
      "DataFrame from expected_return_CAPMReturn.pkl\n",
      "+-------------+---------------------+\n",
      "|   ticker    |     CAPMReturn      |\n",
      "+-------------+---------------------+\n",
      "| HDFCBANK.NS | -0.5087999518127654 |\n",
      "| RELIANCE.NS | -0.4303008389493678 |\n",
      "+-------------+---------------------+\n",
      "DataFrame from expected_return_EMAHistoricalReturn.pkl\n",
      "+-------------+---------------------+\n",
      "|   ticker    | EMAHistoricalReturn |\n",
      "+-------------+---------------------+\n",
      "| HDFCBANK.NS | -0.0929687744013753 |\n",
      "| RELIANCE.NS | -0.6835972468991465 |\n",
      "+-------------+---------------------+\n",
      "DataFrame from expected_return_FamaFrenchReturn.pkl\n",
      "+-------------+----------------------+\n",
      "|   ticker    |   FamaFrenchReturn   |\n",
      "+-------------+----------------------+\n",
      "| HDFCBANK.NS | -0.06813540825219705 |\n",
      "| RELIANCE.NS | -1.1130589138971423  |\n",
      "+-------------+----------------------+\n",
      "DataFrame from expected_return_GordonGrowthReturn.pkl\n",
      "+-------------+--------------------+\n",
      "|   ticker    | GordonGrowthReturn |\n",
      "+-------------+--------------------+\n",
      "| HDFCBANK.NS |       0.4092       |\n",
      "| RELIANCE.NS |      -0.0442       |\n",
      "+-------------+--------------------+\n",
      "DataFrame from expected_return_LinearRegressionReturn.pkl\n",
      "+-------------+------------------------+\n",
      "|   ticker    | LinearRegressionReturn |\n",
      "+-------------+------------------------+\n",
      "| HDFCBANK.NS | -0.026009446371546563  |\n",
      "| RELIANCE.NS |  -0.7914235697943098   |\n",
      "+-------------+------------------------+\n",
      "DataFrame from expected_return_RiskParityReturn.pkl\n",
      "+-------------+----------------------+\n",
      "|   ticker    |   RiskParityReturn   |\n",
      "+-------------+----------------------+\n",
      "| HDFCBANK.NS | -0.09813540825219705 |\n",
      "| RELIANCE.NS | -1.1430589138971423  |\n",
      "+-------------+----------------------+\n",
      "DataFrame from stocks.pkl\n",
      "+---------------------------+--------------------+--------------------+\n",
      "|           Date            |    HDFCBANK.NS     |    RELIANCE.NS     |\n",
      "+---------------------------+--------------------+--------------------+\n",
      "| 2023-01-02 00:00:00+00:00 | 1588.5416259765625 | 1172.4229736328125 |\n",
      "| 2023-01-03 00:00:00+00:00 |  1598.92919921875  | 1163.8433837890625 |\n",
      "| 2023-01-04 00:00:00+00:00 |    1570.3515625    | 1146.3199462890625 |\n",
      "| 2023-01-05 00:00:00+00:00 |  1560.2568359375   | 1144.2718505859375 |\n",
      "| 2023-01-06 00:00:00+00:00 | 1555.0875244140625 | 1154.6719970703125 |\n",
      "| 2023-01-09 00:00:00+00:00 | 1558.1109619140625 |   1181.935546875   |\n",
      "| 2023-01-10 00:00:00+00:00 | 1529.631103515625  | 1164.457763671875  |\n",
      "| 2023-01-11 00:00:00+00:00 |   1551.673828125   | 1149.7791748046875 |\n",
      "| 2023-01-12 00:00:00+00:00 | 1559.9642333984375 |  1124.95068359375  |\n",
      "| 2023-01-13 00:00:00+00:00 | 1561.1834716796875 | 1123.1300048828125 |\n",
      "| 2023-01-16 00:00:00+00:00 |  1546.2119140625   |  1112.43408203125  |\n",
      "| 2023-01-17 00:00:00+00:00 |  1569.22998046875  | 1128.227783203125  |\n",
      "| 2023-01-18 00:00:00+00:00 |    1596.9296875    | 1126.361572265625  |\n",
      "| 2023-01-19 00:00:00+00:00 |  1603.56201171875  | 1125.155517578125  |\n",
      "| 2023-01-20 00:00:00+00:00 | 1619.9964599609375 | 1111.7740478515625 |\n",
      "| 2023-01-23 00:00:00+00:00 | 1631.846923828125  | 1106.1529541015625 |\n",
      "| 2023-01-24 00:00:00+00:00 | 1653.6947021484375 |  1099.62158203125  |\n",
      "| 2023-01-25 00:00:00+00:00 | 1607.9998779296875 |  1084.41943359375  |\n",
      "| 2023-01-27 00:00:00+00:00 | 1575.9598388671875 |  1063.8466796875   |\n",
      "| 2023-01-30 00:00:00+00:00 |  1574.3505859375   | 1074.0421142578125 |\n",
      "+---------------------------+--------------------+--------------------+\n"
     ]
    }
   ],
   "execution_count": 69
  },
  {
   "metadata": {},
   "cell_type": "markdown",
   "source": ""
  },
  {
   "metadata": {
    "ExecuteTime": {
     "end_time": "2024-10-27T08:13:28.211575Z",
     "start_time": "2024-10-27T08:13:28.197650Z"
    }
   },
   "cell_type": "code",
   "source": "",
   "outputs": [],
   "execution_count": null
  },
  {
   "metadata": {
    "ExecuteTime": {
     "end_time": "2024-10-27T08:13:28.236566Z",
     "start_time": "2024-10-27T08:13:28.229334Z"
    }
   },
   "cell_type": "code",
   "source": "",
   "outputs": [],
   "execution_count": null
  },
  {
   "metadata": {
    "ExecuteTime": {
     "end_time": "2024-10-27T08:13:28.297499Z",
     "start_time": "2024-10-27T08:13:28.291993Z"
    }
   },
   "cell_type": "code",
   "source": "",
   "outputs": [],
   "execution_count": null
  }
 ],
 "metadata": {
  "colab": {
   "provenance": [],
   "gpuType": "T4",
   "authorship_tag": "ABX9TyNzyEI9oX2hT+fF9U3OQY+f",
   "include_colab_link": true
  },
  "kernelspec": {
   "display_name": "Python 3 (ipykernel)",
   "name": "python3",
   "language": "python"
  },
  "language_info": {
   "name": "python"
  },
  "accelerator": "GPU"
 },
 "nbformat": 4,
 "nbformat_minor": 0
}
