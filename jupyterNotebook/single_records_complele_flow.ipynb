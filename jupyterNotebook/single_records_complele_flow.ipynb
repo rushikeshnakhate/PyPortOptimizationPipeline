{
 "cells": [
  {
   "cell_type": "markdown",
   "metadata": {
    "id": "view-in-github",
    "colab_type": "text"
   },
   "source": [
    "<a href=\"https://colab.research.google.com/github/rushikeshnakhate/PortfoliOpt/blob/master/multiple_dates_expected_return_df_visualization.ipynb\" target=\"_parent\"><img src=\"https://colab.research.google.com/assets/colab-badge.svg\" alt=\"Open In Colab\"/></a>"
   ]
  },
  {
   "cell_type": "code",
   "execution_count": 1,
   "metadata": {
    "id": "TIwekf_p2VYr",
    "colab": {
     "base_uri": "https://localhost:8080/"
    },
    "outputId": "21dcdce5-9c88-4100-f827-d2ac7413bd45"
   },
   "outputs": [
    {
     "output_type": "stream",
     "name": "stdout",
     "text": [
      "Mounted at /content/drive\n"
     ]
    }
   ],
   "source": [
    "# # Mount Google Drive\n",
    "# from google.colab import drive\n",
    "# drive.mount('/content/drive')\n",
    "\n",
    "# data_dir = Path(\"/content/drive/MyDrive/data\")\n",
    "# !pip install tqdm\n",
    "# !pip install PyPortfolioOpt\n",
    "# !pip install tabulate\n",
    "# !pip install dtale\n",
    "# !pip install -q data-table\n",
    "# from google.colab import data_table"
   ]
  },
  {
   "cell_type": "code",
   "metadata": {
    "id": "yQypJYR_3ZKx",
    "ExecuteTime": {
     "end_time": "2024-10-27T08:08:26.793020Z",
     "start_time": "2024-10-27T08:08:26.735459Z"
    }
   },
   "source": [
    "import os\n",
    "from pathlib import Path\n",
    "import pandas as pd\n",
    "from tabulate import tabulate\n",
    "data_dir = Path(r\"D:\\PortfoliOpt\\data\")"
   ],
   "outputs": [],
   "execution_count": 24
  },
  {
   "metadata": {
    "ExecuteTime": {
     "end_time": "2024-10-27T08:06:35.839967Z",
     "start_time": "2024-10-27T08:06:35.827028Z"
    }
   },
   "cell_type": "code",
   "source": [
    "def load_all_pickles_to_dfs(directory):\n",
    "    \"\"\"\n",
    "    Reads all .pkl files in the specified directory and loads each file into a DataFrame.\n",
    "    \n",
    "    Parameters:\n",
    "    - directory (str): The path to the directory containing .pkl files.\n",
    "\n",
    "    Returns:\n",
    "    - dict: A dictionary where keys are file names without extensions and values are DataFrames.\n",
    "    \"\"\"\n",
    "    dataframes = {}\n",
    "    for filename in os.listdir(directory):\n",
    "        if filename.endswith(\".pkl\"):\n",
    "            file_path = os.path.join(directory, filename)\n",
    "            try:\n",
    "                df = pd.read_pickle(file_path)\n",
    "                dataframes[filename[:-4]] = df  # Using filename without .pkl extension as the key\n",
    "            except Exception as e:\n",
    "                print(f\"Error reading {filename}: {e}\")\n",
    "    return dataframes"
   ],
   "outputs": [],
   "execution_count": 20
  },
  {
   "metadata": {
    "ExecuteTime": {
     "end_time": "2024-10-27T08:08:29.866040Z",
     "start_time": "2024-10-27T08:08:29.851716Z"
    }
   },
   "cell_type": "code",
   "source": [
    "from datetime import datetime, timedelta\n",
    "\n",
    "\n",
    "def generate_month_date_ranges(year, months=None):\n",
    "    if months is None:\n",
    "        months = range(1, 13)  # Default to all months if none specified\n",
    "\n",
    "    month_ranges = []\n",
    "    for month in months:\n",
    "        start_date = datetime(year, month, 1).date()\n",
    "        if month == 12:\n",
    "            end_date = (datetime(year + 1, 1, 1) - timedelta(days=1)).date()\n",
    "        else:\n",
    "            end_date = (datetime(year, month + 1, 1) - timedelta(days=1)).date()\n",
    "        month_ranges.append((start_date, end_date))\n",
    "    return month_ranges\n",
    "\n",
    "\n",
    "def create_current_month_directory(start_date):\n",
    "    current_month = start_date.strftime(\"%Y%m\")\n",
    "    current_month_dir = data_dir / current_month\n",
    "    return current_month_dir"
   ],
   "outputs": [],
   "execution_count": 25
  },
  {
   "metadata": {
    "ExecuteTime": {
     "end_time": "2024-10-27T08:08:30.249987Z",
     "start_time": "2024-10-27T08:08:30.200636Z"
    }
   },
   "cell_type": "code",
   "source": [
    "if __name__ == \"__main__\":\n",
    "    year = 2023\n",
    "    alternate_months = [1]\n",
    "    month_ranges = generate_month_date_ranges(year, months=alternate_months)\n",
    "\n",
    "    for start_date, end_date in month_ranges:\n",
    "        all_pkl_file_dir = create_current_month_directory(start_date=start_date)\n",
    "        all_dfs =load_all_pickles_to_dfs(all_pkl_file_dir)\n",
    "        for file_name, df in all_dfs.items():\n",
    "            print(f\"DataFrame from {file_name}.pkl:\")\n",
    "            print(tabulate(df, headers='keys', tablefmt='pretty')) "
   ],
   "outputs": [
    {
     "name": "stdout",
     "output_type": "stream",
     "text": [
      "DataFrame from expected_return.pkl:\n",
      "+-------------+---------------------+\n",
      "|             |        ARIMA        |\n",
      "+-------------+---------------------+\n",
      "| HDFCBANK.NS | -0.9909148666056561 |\n",
      "| RELIANCE.NS |  4.254080063798845  |\n",
      "+-------------+---------------------+\n",
      "DataFrame from optimization.pkl:\n",
      "\n",
      "DataFrame from performance.pkl:\n",
      "+---+------------------------+---------------------+---------------------+-------------------------------------------------------------------------+-----------------------------------+-----------------------------------+-----------------------------------+------------------------------------------+---------------------------------------------+------------------------------------------+-----------------------------------------+------------------------+----------------------------+------------------------+-----------------------+------------------------+------------------------+\n",
      "|   | Expected Annual Return |  Annual Volatility  |    Sharpe Ratio     |                                 Weights                                 |       Expected Return Type        |            Risk Model             |             Optimizer             |    Allocation_GreedyPortfolio_weight     | Allocation_GreedyPortfolio_remaining_amount |      Allocation_LpPortfolio_weight       | Allocation_LpPortfolio_remaining_amount | GreedyPortfolio_Return | GreedyPortfolio_Volatility | GreedyPortfolio_Sharpe |  LpPortfolio_Return   | LpPortfolio_Volatility |   LpPortfolio_Sharpe   |\n",
      "+---+------------------------+---------------------+---------------------+-------------------------------------------------------------------------+-----------------------------------+-----------------------------------+-----------------------------------+------------------------------------------+---------------------------------------------+------------------------------------------+-----------------------------------------+------------------------+----------------------------+------------------------+-----------------------+------------------------+------------------------+\n",
      "| 0 |  -0.11908840264458674  | 0.21011423805540144 | -0.5667793089451956 | {'HDFCBANK.NS': 0.9999317476976606, 'RELIANCE.NS': 6.8252302339408e-05} |   monte_carlo_max_sharpe_ratio    |   monte_carlo_max_sharpe_ratio    |   monte_carlo_max_sharpe_ratio    |           {'HDFCBANK.NS': 635}           |               287.3779296875                |           {'HDFCBANK.NS': 635}           |            287.3773828520207            | -0.008930885134137194  |     132.88604651723634     | -0.0009973142866654444 | -0.008930885139022323 |   132.88604651723634   | -0.0009973142871286431 |\n",
      "| 1 |  -0.7296741886565651   | 0.16235938773665373 | -4.494191551400117  | {'HDFCBANK.NS': 0.41474873685095964, 'RELIANCE.NS': 0.5852512631490404} | monte_carlo_min_annual_volatility | monte_carlo_min_annual_volatility | monte_carlo_min_annual_volatility | {'RELIANCE.NS': 544, 'HDFCBANK.NS': 264} |                 92.53515625                 | {'HDFCBANK.NS': 263, 'RELIANCE.NS': 545} |            592.8434994795825            | -0.054163650374646086  |      131.858809498503      | -0.0053273800771613655 | -0.05423748741864985  |   131.8880885501388    |  -0.00533325146499174  |\n",
      "+---+------------------------+---------------------+---------------------+-------------------------------------------------------------------------+-----------------------------------+-----------------------------------+-----------------------------------+------------------------------------------+---------------------------------------------+------------------------------------------+-----------------------------------------+------------------------+----------------------------+------------------------+-----------------------+------------------------+------------------------+\n",
      "DataFrame from post_processing_weight.pkl:\n",
      "+---+------------------------+---------------------+---------------------+-------------------------------------------------------------------------+-----------------------------------+-----------------------------------+-----------------------------------+------------------------------------------+---------------------------------------------+------------------------------------------+-----------------------------------------+\n",
      "|   | Expected Annual Return |  Annual Volatility  |    Sharpe Ratio     |                                 Weights                                 |       Expected Return Type        |            Risk Model             |             Optimizer             |    Allocation_GreedyPortfolio_weight     | Allocation_GreedyPortfolio_remaining_amount |      Allocation_LpPortfolio_weight       | Allocation_LpPortfolio_remaining_amount |\n",
      "+---+------------------------+---------------------+---------------------+-------------------------------------------------------------------------+-----------------------------------+-----------------------------------+-----------------------------------+------------------------------------------+---------------------------------------------+------------------------------------------+-----------------------------------------+\n",
      "| 0 |  -0.11908840264458674  | 0.21011423805540144 | -0.5667793089451956 | {'HDFCBANK.NS': 0.9999317476976606, 'RELIANCE.NS': 6.8252302339408e-05} |   monte_carlo_max_sharpe_ratio    |   monte_carlo_max_sharpe_ratio    |   monte_carlo_max_sharpe_ratio    |           {'HDFCBANK.NS': 635}           |               287.3779296875                |           {'HDFCBANK.NS': 635}           |            287.3773828520207            |\n",
      "| 1 |  -0.7296741886565651   | 0.16235938773665373 | -4.494191551400117  | {'HDFCBANK.NS': 0.41474873685095964, 'RELIANCE.NS': 0.5852512631490404} | monte_carlo_min_annual_volatility | monte_carlo_min_annual_volatility | monte_carlo_min_annual_volatility | {'RELIANCE.NS': 544, 'HDFCBANK.NS': 264} |                 92.53515625                 | {'HDFCBANK.NS': 263, 'RELIANCE.NS': 545} |            592.8434994795825            |\n",
      "+---+------------------------+---------------------+---------------------+-------------------------------------------------------------------------+-----------------------------------+-----------------------------------+-----------------------------------+------------------------------------------+---------------------------------------------+------------------------------------------+-----------------------------------------+\n",
      "DataFrame from stocks.pkl:\n",
      "+---------------------------+--------------------+--------------------+\n",
      "|           Date            |    HDFCBANK.NS     |    RELIANCE.NS     |\n",
      "+---------------------------+--------------------+--------------------+\n",
      "| 2023-01-02 00:00:00+00:00 | 1588.541748046875  | 1172.4229736328125 |\n",
      "| 2023-01-03 00:00:00+00:00 | 1598.9290771484375 | 1163.8433837890625 |\n",
      "| 2023-01-04 00:00:00+00:00 | 1570.3516845703125 | 1146.3199462890625 |\n",
      "| 2023-01-05 00:00:00+00:00 | 1560.2567138671875 | 1144.2718505859375 |\n",
      "| 2023-01-06 00:00:00+00:00 | 1555.0875244140625 | 1154.6719970703125 |\n",
      "| 2023-01-09 00:00:00+00:00 | 1558.1109619140625 |   1181.935546875   |\n",
      "| 2023-01-10 00:00:00+00:00 | 1529.6309814453125 | 1164.457763671875  |\n",
      "| 2023-01-11 00:00:00+00:00 | 1551.6737060546875 | 1149.7791748046875 |\n",
      "| 2023-01-12 00:00:00+00:00 | 1559.9642333984375 |  1124.95068359375  |\n",
      "| 2023-01-13 00:00:00+00:00 | 1561.1834716796875 | 1123.1300048828125 |\n",
      "| 2023-01-16 00:00:00+00:00 |  1546.2119140625   |  1112.43408203125  |\n",
      "| 2023-01-17 00:00:00+00:00 |  1569.22998046875  | 1128.227783203125  |\n",
      "| 2023-01-18 00:00:00+00:00 | 1596.9298095703125 | 1126.361572265625  |\n",
      "| 2023-01-19 00:00:00+00:00 |  1603.56201171875  | 1125.155517578125  |\n",
      "| 2023-01-20 00:00:00+00:00 | 1619.9964599609375 | 1111.7740478515625 |\n",
      "| 2023-01-23 00:00:00+00:00 | 1631.8470458984375 | 1106.1529541015625 |\n",
      "| 2023-01-24 00:00:00+00:00 | 1653.6947021484375 |  1099.62158203125  |\n",
      "| 2023-01-25 00:00:00+00:00 | 1607.9998779296875 |  1084.41943359375  |\n",
      "| 2023-01-27 00:00:00+00:00 |  1575.9599609375   |  1063.8466796875   |\n",
      "| 2023-01-30 00:00:00+00:00 |  1574.3505859375   | 1074.0421142578125 |\n",
      "+---------------------------+--------------------+--------------------+\n"
     ]
    }
   ],
   "execution_count": 26
  },
  {
   "metadata": {},
   "cell_type": "code",
   "outputs": [],
   "execution_count": null,
   "source": ""
  }
 ],
 "metadata": {
  "colab": {
   "provenance": [],
   "gpuType": "T4",
   "authorship_tag": "ABX9TyNzyEI9oX2hT+fF9U3OQY+f",
   "include_colab_link": true
  },
  "kernelspec": {
   "display_name": "Python 3 (ipykernel)",
   "name": "python3",
   "language": "python"
  },
  "language_info": {
   "name": "python"
  },
  "accelerator": "GPU"
 },
 "nbformat": 4,
 "nbformat_minor": 0
}
