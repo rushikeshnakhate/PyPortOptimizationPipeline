{
 "cells": [
  {
   "cell_type": "markdown",
   "metadata": {
    "colab_type": "text",
    "id": "view-in-github"
   },
   "source": [
    "<a href=\"https://colab.research.google.com/github/rushikeshnakhate/PortfoliOpt/blob/master/multiple_dates_expected_return_df_visualization.ipynb\" target=\"_parent\"><img src=\"https://colab.research.google.com/assets/colab-badge.svg\" alt=\"Open In Colab\"/></a>"
   ]
  },
  {
   "cell_type": "code",
   "metadata": {
    "colab": {
     "base_uri": "https://localhost:8080/"
    },
    "id": "TIwekf_p2VYr",
    "outputId": "21dcdce5-9c88-4100-f827-d2ac7413bd45",
    "ExecuteTime": {
     "end_time": "2024-11-21T06:34:55.174274Z",
     "start_time": "2024-11-21T06:34:55.167365Z"
    }
   },
   "source": [
    "# # Mount Google Drive\n",
    "# from google.colab import drive\n",
    "# drive.mount('/content/drive')\n",
    "\n",
    "# data_dir = Path(\"/content/drive/MyDrive/data\")\n",
    "# !pip install tqdm\n",
    "# !pip install PyPortfolioOpt\n",
    "# !pip install tabulate\n",
    "# !pip install dtale\n",
    "# !pip install -q data-table\n",
    "# from google.colab import data_table"
   ],
   "outputs": [],
   "execution_count": 11
  },
  {
   "cell_type": "code",
   "metadata": {
    "id": "yQypJYR_3ZKx",
    "ExecuteTime": {
     "end_time": "2024-11-21T06:34:55.524349Z",
     "start_time": "2024-11-21T06:34:55.505206Z"
    }
   },
   "source": [
    "import os\n",
    "from pathlib import Path\n",
    "import pandas as pd\n",
    "from tabulate import tabulate\n",
    "data_dir = Path(r\"D:\\PortfoliOpt\\data\")"
   ],
   "outputs": [],
   "execution_count": 12
  },
  {
   "cell_type": "code",
   "metadata": {
    "ExecuteTime": {
     "end_time": "2024-11-21T06:34:55.875776Z",
     "start_time": "2024-11-21T06:34:55.862871Z"
    }
   },
   "source": [
    "def load_all_pickles_to_dfs(directory):\n",
    "    \"\"\"\n",
    "    Reads all .pkl files in the specified directory and loads each file into a DataFrame.\n",
    "    \n",
    "    Parameters:\n",
    "    - directory (str): The path to the directory containing .pkl files.\n",
    "\n",
    "    Returns:\n",
    "    - dict: A dictionary where keys are file names without extensions and values are DataFrames.\n",
    "    \"\"\"\n",
    "    dataframes = {}\n",
    "    for filename in os.listdir(directory):\n",
    "        if filename.endswith(\".pkl\"):\n",
    "            file_path = os.path.join(directory, filename)\n",
    "            try:\n",
    "                df = pd.read_pickle(file_path)\n",
    "                dataframes[filename[:-4]] = df  # Using filename without .pkl extension as the key\n",
    "            except Exception as e:\n",
    "                print(f\"Error reading {filename}: {e}\")\n",
    "    return dataframes"
   ],
   "outputs": [],
   "execution_count": 13
  },
  {
   "cell_type": "code",
   "metadata": {
    "ExecuteTime": {
     "end_time": "2024-11-21T06:34:56.254158Z",
     "start_time": "2024-11-21T06:34:56.240811Z"
    }
   },
   "source": [
    "from datetime import datetime, timedelta\n",
    "\n",
    "def generate_month_date_ranges(year, months=None):\n",
    "    if months is None:\n",
    "        months = range(1, 13)  # Default to all months if none specified\n",
    "\n",
    "    month_ranges = []\n",
    "    for month in months:\n",
    "        start_date = datetime(year, month, 1).date()\n",
    "        if month == 12:\n",
    "            end_date = (datetime(year + 1, 1, 1) - timedelta(days=1)).date()\n",
    "        else:\n",
    "            end_date = (datetime(year, month + 1, 1) - timedelta(days=1)).date()\n",
    "        month_ranges.append((start_date, end_date))\n",
    "    return month_ranges\n",
    "\n",
    "\n",
    "def create_current_month_directory(start_date):\n",
    "    current_month = start_date.strftime(\"%Y%m\")\n",
    "    current_month_dir = data_dir / current_month\n",
    "    return current_month_dir"
   ],
   "outputs": [],
   "execution_count": 14
  },
  {
   "cell_type": "code",
   "metadata": {
    "ExecuteTime": {
     "end_time": "2024-11-21T06:34:58.000499Z",
     "start_time": "2024-11-21T06:34:57.979532Z"
    }
   },
   "source": [
    "# if __name__ == \"__main__\":\n",
    "#     year = 2023\n",
    "#     alternate_months = [1]\n",
    "#     month_ranges = generate_month_date_ranges(year, months=alternate_months)\n",
    "#     for start_date, end_date in month_ranges:\n",
    "#         all_pkl_file_dir = create_current_month_directory(start_date=start_date)\n",
    "#         all_dfs = load_all_pickles_to_dfs(all_pkl_file_dir)\n",
    "#         for file_name, df in all_dfs.items():\n",
    "#             print(f\"DataFrame from {file_name}.pkl\")\n",
    "#             print(tabulate(df, headers='keys', tablefmt='pretty'))\n",
    "#             "
   ],
   "outputs": [],
   "execution_count": 15
  },
  {
   "cell_type": "markdown",
   "metadata": {},
   "source": []
  },
  {
   "cell_type": "code",
   "metadata": {
    "ExecuteTime": {
     "end_time": "2024-11-21T06:35:04.732918Z",
     "start_time": "2024-11-21T06:34:59.191523Z"
    }
   },
   "source": [
    "df = pd.read_pickle(r\"D:\\PortfoliOpt\\data\\202301\\all_optimized_df.pkl\")\n",
    "valid_weights_df = df[~df['Weights'].str.contains('error', na=False)]\n",
    "print(tabulate(valid_weights_df, headers='keys', tablefmt='pretty'))"
   ],
   "outputs": [
    {
     "name": "stderr",
     "output_type": "stream",
     "text": [
      "IOPub data rate exceeded.\n",
      "The Jupyter server will temporarily stop sending output\n",
      "to the client in order to avoid crashing it.\n",
      "To change this limit, set the config variable\n",
      "`--ServerApp.iopub_data_rate_limit`.\n",
      "\n",
      "Current values:\n",
      "ServerApp.iopub_data_rate_limit=1000000.0 (bytes/sec)\n",
      "ServerApp.rate_limit_window=3.0 (secs)\n",
      "\n"
     ]
    }
   ],
   "execution_count": 16
  },
  {
   "metadata": {
    "ExecuteTime": {
     "end_time": "2024-11-21T06:35:04.765805Z",
     "start_time": "2024-11-21T06:35:04.732918Z"
    }
   },
   "cell_type": "code",
   "source": [
    "expected_return_all_type_df = pd.read_pickle(r\"D:\\PortfoliOpt\\data\\202301\\expected_return_all_type.pkl\")\n",
    "print(tabulate(expected_return_all_type_df, headers='keys', tablefmt='pretty'))"
   ],
   "outputs": [
    {
     "name": "stdout",
     "output_type": "stream",
     "text": [
      "+---------------+-----------------------+--------------------------------+---------------------+--------------------------+----------------------+---------------------+-----------------------+------------------------+----------------------+\n",
      "|    ticker     |      ARIMAReturn      | ArithmeticMeanHistoricalReturn |     CAPMReturn      | CAGRMeanHistoricalReturn | EMAHistoricalReturn  |  FamaFrenchReturn   |  GordonGrowthReturn   | LinearRegressionReturn |   RiskParityReturn   |\n",
      "+---------------+-----------------------+--------------------------------+---------------------+--------------------------+----------------------+---------------------+-----------------------+------------------------+----------------------+\n",
      "| ADANIPORTS.NS |  0.35714181900075515  |       0.3462136635480445       | 0.7673764240267555  |    0.2634318639682989    |  0.6849848717199556  | 0.3762136635480445  |        0.4037         |   3.495464885023708    |  0.3462136635480445  |\n",
      "| APOLLOHOSP.NS |  -0.4736991248792709  |       0.2834763970209046       | 0.32359696390224396 |    0.2976963190037658    |  0.3888102129394013  | 0.3134763970209046  |  0.7013999998999999   |   0.7647116315304552   |  0.2834763970209046  |\n",
      "| ASIANPAINT.NS | -0.15811480073232365  |      0.13656951167838413       | 0.20575433021555276 |   0.13033284934445666    | 0.19156156024007331  | 0.16656951167838413 |     -0.411000001      |   0.4861919685054068   | 0.13656951167838413  |\n",
      "|  AXISBANK.NS  | -0.18314461483692723  |      0.18210808631528055       | 0.2967885668795215  |   0.17923092827137865    | 0.28092492295090277  | 0.21210808631528055 |     0.19390000004     |   0.8695597627029106   | 0.18210808631528055  |\n",
      "| BAJAJ-AUTO.NS |   2.607953880234726   |       0.7193934040833699       | 0.2772008018321335  |    1.0038000192540317    |  1.204468101567362   |  0.74939340408337   |        -0.3056        |   2.0326840858244197   |  0.7193934040833699  |\n",
      "| BAJAJFINSV.NS | -0.25146605104978914  |      0.11014515246487443       |  0.391231399970766  |   0.08939077746123458    | 0.20041018946860856  | 0.1401451524648744  |     0.08259999997     |   0.8986223941599807   | 0.11014515246487443  |\n",
      "| BAJFINANCE.NS | -0.32169998391628307  |      0.14860630759872126       | 0.3492178952674868  |   0.12712523254274455    | 0.15555225761122426  | 0.17860630759872126 |        0.1315         |   0.233237238447477    | 0.14860630759872126  |\n",
      "| BHARTIARTL.NS |  0.13592230872065092  |      0.26502377282554707       | 0.26315682376334265 |    0.2848494589172368    |  0.3938080276756175  | 0.2950237728255471  |        1.6852         |   1.038758309636469    | 0.26502377282554707  |\n",
      "|    BPCL.NS    |   1.768469392578322   |      0.39609125323627103       | 0.31757339753116604 |    0.4462378233991531    |  0.6436389232651274  |  0.426091253236271  |        -0.641         |   1.6176540014587175   | 0.39609125323627103  |\n",
      "| BRITANNIA.NS  |  0.11757309144441908  |       0.2566638821670014       |  0.181692816013522  |    0.2748874410380635    |  0.3487865261496914  | 0.28666388216700145 |        -0.081         |   0.5866486337699706   |  0.2566638821670014  |\n",
      "|   CIPLA.NS    |  0.1006207386280582   |      0.19868740526648543       | 0.18112853056007108 |   0.18941006834468133    | 0.30334983190306364  | 0.22868740526648546 |        0.1608         |   1.0192678156669341   | 0.19868740526648543  |\n",
      "| COALINDIA.NS  |  2.3399699845505038   |       0.6503610414870179       | 0.38060527817693357 |    0.8602387779236522    |  1.239269073882713   | 0.6803610414870179  | 0.025099999999999997  |   4.033999102697725    |  0.6503610414870179  |\n",
      "|  DIVISLAB.NS  | -0.32771163673791015  |      0.20560685485487515       | 0.2456921087945664  |   0.18258376131141762    | 0.29298916023757404  | 0.23560685485487515 |  0.47109999970000005  |   0.7740460986371456   | 0.20560685485487515  |\n",
      "|  DRREDDY.NS   | -0.26589836376859566  |       0.3497401732251599       | 0.2092358270871688  |    0.3943720789652434    | 0.39413862570754676  | 0.37974017322515985 |     -0.1453999996     |   0.2868101470279256   |  0.3497401732251599  |\n",
      "| EICHERMOT.NS  |  -0.299789832595976   |       0.2973257400813866       | 0.3749153030772103  |   0.30856254270150285    |  0.4540756590741786  | 0.3273257400813866  |  0.09329999900000001  |   1.121109553159688    |  0.2973257400813866  |\n",
      "|   GRASIM.NS   | -0.35083375413572215  |      0.23704254176880077       | 0.37205089817165504 |   0.24860566576365195    | 0.36160792138046194  | 0.26704254176880077 |         -0.23         |   1.0323496992740635   | 0.23704254176880077  |\n",
      "|  HCLTECH.NS   |  -0.2061311051773249  |       0.4216609416614116       | 0.3476057369891281  |   0.49285783433109853    |  0.610313349053873   | 0.4516609416614116  |      0.117400002      |   1.0605783017760753   |  0.4216609416614116  |\n",
      "|  HDFCBANK.NS  |  0.0840368448686204   |      0.07587848820915682       | 0.27342287459713155 |   0.06357060646914792    | 0.12539598650576234  | 0.10587848820915682 |        0.4092         |  0.33556593899437615   | 0.07587848820915682  |\n",
      "|  HDFCLIFE.NS  | -0.045024566140005384 |      0.16997690439132157       | 0.3580726778470406  |   0.14252601908633977    | 0.19218516275943331  | 0.1999769043913216  |  0.15189999999999998  |   0.3242629579994438   | 0.16997690439132157  |\n",
      "| HEROMOTOCO.NS |  -0.5848495170221137  |       0.5003038751506759       | 0.37676853041136904 |    0.6054982214619449    |  0.901404289190282   | 0.5303038751506759  |         0.498         |   2.925590096914815    |  0.5003038751506759  |\n",
      "|  HINDALCO.NS  |  -0.507024932061088   |       0.281130009012102        | 0.49831810526964254 |   0.28065662773106026    |  0.6021108309569663  | 0.31113000901210197 |        0.7855         |   3.245981520322453    |  0.281130009012102   |\n",
      "| HINDUNILVR.NS |  -0.4258421484354028  |      0.06941941337800721       | 0.19228827755566488 |   0.059398637143035504   |  0.100386577117481   | 0.09941941337800721 | -0.006200000000000001 |  0.22482810715903345   | 0.06941941337800721  |\n",
      "| ICICIBANK.NS  | -0.40671308479608603  |      0.13156121039289598       | 0.26698256535169623 |    0.1268878231654762    | 0.16568162319896262  | 0.16156121039289598 |         0.196         |   0.3374717281335493   | 0.13156121039289598  |\n",
      "| INDUSINDBK.NS |  0.3400171116197981   |      0.31664427422711733       | 0.4137345260164967  |    0.3301235899806183    |  0.4593478699846061  | 0.3466442742271173  |        -0.3785        |   1.1284953610506467   | 0.31664427422711733  |\n",
      "|    INFY.NS    |  -0.5228085864272267  |      0.06728839384464358       | 0.3763287739840217  |   0.04060340441926669    | 0.16328032227027278  | 0.09728839384464358 |        0.0575         |   0.8064163466476659   | 0.06728839384464358  |\n",
      "|    ITC.NS     | -0.08308337947414923  |      0.38607591278117764       | 0.22190971338872595 |   0.44867304268354613    | 0.36672578890028684  | 0.4160759127811776  |  0.05109999999999999  |  -0.1041311290246546   | 0.38607591278117764  |\n",
      "|  JSWSTEEL.NS  |  -0.1456563350677874  |       0.1564322857298223       | 0.4193511342817812  |   0.14506281314677438    | 0.27618801474121546  | 0.1864322857298223  |  -0.8332999999999999  |   1.043054382887556    |  0.1564322857298223  |\n",
      "| KOTAKBANK.NS  |  0.5276467452248546   |      0.061406973924120346      | 0.30295597321511064 |   0.04792250384305685    |  0.1019210738622871  | 0.09140697392412035 |     0.1321999999      |  0.29388308478805314   | 0.061406973924120346 |\n",
      "|     LT.NS     |  0.6760498496400147   |       0.5709431671121848       | 0.2857043903801775  |    0.736777873615964     |  0.8918999149938163  | 0.6009431671121849  |         0.062         |   1.6815086264232306   |  0.5709431671121848  |\n",
      "|    M&M.NS     |  -0.3438885485844059  |       0.3728153487972757       | 0.42686944619706507 |   0.41371082478484356    |  0.5135372168445396  | 0.40281534879727565 |     0.3582000003      |   0.9026840500824498   |  0.3728153487972757  |\n",
      "|   MARUTI.NS   |  0.02416574422030826  |      0.23249737905960316       | 0.24314346298596753 |   0.24620322418200735    | 0.23364174704472473  | 0.2624973790596032  |        -0.1646        |  0.13534396044820696   | 0.23249737905960316  |\n",
      "| NESTLEIND.NS  |  -0.5070417826107566  |       0.3418194406125053       | 0.21064979556926752 |   0.38790994398134115    |  0.4809141308699796  | 0.37181944061250527 | 0.005600000000000001  |   0.9117933135432479   |  0.3418194406125053  |\n",
      "|    NTPC.NS    |   3.678278384948505   |       0.7107506891113922       | 0.3702643482581349  |    0.9886069618038851    |  1.2933764866397652  | 0.7407506891113922  |        0.1737         |    3.21899942571393    |  0.7107506891113922  |\n",
      "|    ONGC.NS    |  0.3952406976519083   |       0.4012391664835097       | 0.2919408691799441  |   0.46258937262324396    |  0.5571423013905734  | 0.4312391664835097  |        -0.1784        |   0.9440124469406113   |  0.4012391664835097  |\n",
      "| POWERGRID.NS  | -0.19812910233572278  |      0.48587006688714535       |  0.263285677924956  |    0.5876875785299933    |  0.7256102644657598  | 0.5158700668871453  | 0.053000000000000005  |   1.2965231454265669   | 0.48587006688714535  |\n",
      "|  RELIANCE.NS  | -0.21065243324468708  |      0.10871307766312589       | 0.35774243480359974 |   0.09819957896017484    |  0.1844381438226439  | 0.1387130776631259  |        -0.044         |   0.658412306093078    | 0.10871307766312589  |\n",
      "|  SBILIFE.NS   |  0.4613066242611479   |      0.17414630014842136       | 0.3760269040652915  |    0.1635715190093805    |  0.2501019998387879  | 0.2041463001484214  |     0.3948000001      |   0.6787911065440944   | 0.17414630014842136  |\n",
      "|    SBIN.NS    |  0.04265966280797251  |      0.09152873855429176       | 0.4386051307092311  |   0.07148461632526093    | 0.18997656605709023  | 0.12152873855429176 |        0.2461         |   0.8670045196363103   | 0.09152873855429176  |\n",
      "|  SHREECEM.NS  |  -0.1013541486462366  |      0.23746479245837995       |  0.256727104798486  |    0.2347768102625729    |  0.3081169380805755  | 0.26746479245837995 |  -0.8243999999999999  |  0.47051743525882883   | 0.23746479245837995  |\n",
      "| SUNPHARMA.NS  |  0.1850263849346554   |       0.2645388769905869       | 0.20338206404847825 |   0.28751377302138126    |  0.3645887770667493  | 0.29453887699058695 |        0.2876         |   0.7551761854474737   |  0.2645388769905869  |\n",
      "| TATACONSUM.NS |  0.5748989737307175   |       0.3937357534837269       | 0.27135203420766857 |   0.45855278040926306    |  0.6507737718435733  | 0.4237357534837269  |        0.0853         |   1.8496489405265732   |  0.3937357534837269  |\n",
      "| TATAMOTORS.NS |  0.5134784847593505   |       0.736552041163259        | 0.41191051531689515 |    1.0266565901726303    |  1.1182662229121276  |  0.766552041163259  |        -0.1082        |   1.2170056593977425   |  0.736552041163259   |\n",
      "| TATASTEEL.NS  |  -0.2181016689096127  |      0.21808229845570526       | 0.42938292925294275 |   0.21639901998600797    | 0.36676094256856206  | 0.24808229845570529 |      0.025799999      |   1.2848983428548308   | 0.21808229845570526  |\n",
      "|    TCS.NS     |  -0.0317886340960003  |      0.18793125047091472       | 0.3028912830733318  |   0.18708378445964935    | 0.25795865393550144  | 0.21793125047091472 |        0.0599         |   0.5233867273799828   | 0.18793125047091472  |\n",
      "|   TECHM.NS    |  -0.3483929886913292  |       0.3067461348621359       | 0.3801062814568269  |    0.3192132610978051    |  0.3631617802857787  | 0.3367461348621359  |        1.5563         |   0.374010131563149    |  0.3067461348621359  |\n",
      "|   TITAN.NS    |  0.8122129602537864   |       0.3937187908273582       | 0.27654806988531355 |    0.4594647840959889    |  0.5626749385109069  | 0.4237187908273582  | -0.22760000000000002  |   1.1335957763511986   |  0.3937187908273582  |\n",
      "| ULTRACEMCO.NS |  0.8257187777551374   |       0.4384835361449455       | 0.28825457063239507 |    0.5236723983611815    |  0.6769056937869582  | 0.4684835361449455  |     -0.3535000003     |   1.3812416849410538   |  0.4384835361449455  |\n",
      "|    UPL.NS     | -0.11648686777197925  |      -0.17418365664015872      | 0.43477945137055213 |   -0.17842381815871278   | -0.15555428459505127 | -0.1441836566401587 |     0.0018000001      |  -0.17349439310181025  | -0.17418365664015872 |\n",
      "|   WIPRO.NS    |  0.32984790819573173  |       0.2091916870259114       | 0.3728868618889356  |   0.20931179180140402    | 0.34141316281992506  | 0.23919168702591143 |     0.2148000001      |   0.9810557430704885   |  0.2091916870259114  |\n",
      "+---------------+-----------------------+--------------------------------+---------------------+--------------------------+----------------------+---------------------+-----------------------+------------------------+----------------------+\n"
     ]
    }
   ],
   "execution_count": 17
  },
  {
   "cell_type": "code",
   "metadata": {},
   "source": [
    "valid_weights_df_errors = df[df['Weights'].str.contains('error', na=False)]\n",
    "print(tabulate(valid_weights_df_errors, headers='keys', tablefmt='pretty'))"
   ],
   "outputs": [
    {
     "name": "stdout",
     "output_type": "stream",
     "text": [
      "+------+------------------------+-------------------+--------------+------------------------------------------------------------------------------------------------------------------------+--------------------------------+--------------------------+----------------------------------------------------------------------------------------------------+\n",
      "|      | Expected Annual Return | Annual Volatility | Sharpe Ratio |                                                        Weights                                                         |      Expected Return Type      |        Risk Model        |                                             Optimizer                                              |\n",
      "+------+------------------------+-------------------+--------------+------------------------------------------------------------------------------------------------------------------------+--------------------------------+--------------------------+----------------------------------------------------------------------------------------------------+\n",
      "|  2   |          nan           |        nan        |     nan      | failed with error: ('Please check your objectives/constraints or use a different solver.', 'Solver status: unbounded') |          ARIMAReturn           |     CopulaRiskModel      |           <class 'plugIn.optimization.py_portfolio_opt_frontier.PyPortfolioOptFrontier'>           |\n",
      "|  32  |          nan           |        nan        |     nan      | failed with error: ('Please check your objectives/constraints or use a different solver.', 'Solver status: unbounded') |          ARIMAReturn           | GaussianProcessRiskModel |           <class 'plugIn.optimization.py_portfolio_opt_frontier.PyPortfolioOptFrontier'>           |\n",
      "|  47  |          nan           |        nan        |     nan      | failed with error: ('Please check your objectives/constraints or use a different solver.', 'Solver status: unbounded') |          ARIMAReturn           |      GraphicalLasso      |           <class 'plugIn.optimization.py_portfolio_opt_frontier.PyPortfolioOptFrontier'>           |\n",
      "| 167  |          nan           |        nan        |     nan      | failed with error: ('Please check your objectives/constraints or use a different solver.', 'Solver status: unbounded') |          ARIMAReturn           | RegimeSwitchingRiskModel |           <class 'plugIn.optimization.py_portfolio_opt_frontier.PyPortfolioOptFrontier'>           |\n",
      "| 228  |          nan           |        nan        |     nan      | failed with error: ('Please check your objectives/constraints or use a different solver.', 'Solver status: unbounded') | ArithmeticMeanHistoricalReturn |     CopulaRiskModel      | <class 'plugIn.optimization.frontier_with_short_position.PyPortfolioOptFrontierWithShortPosition'> |\n",
      "| 393  |          nan           |        nan        |     nan      | failed with error: ('Please check your objectives/constraints or use a different solver.', 'Solver status: unbounded') | ArithmeticMeanHistoricalReturn | RegimeSwitchingRiskModel | <class 'plugIn.optimization.frontier_with_short_position.PyPortfolioOptFrontierWithShortPosition'> |\n",
      "| 1352 |          nan           |        nan        |     nan      | failed with error: ('Please check your objectives/constraints or use a different solver.', 'Solver status: unbounded') |       GordonGrowthReturn       |     CopulaRiskModel      |           <class 'plugIn.optimization.py_portfolio_opt_frontier.PyPortfolioOptFrontier'>           |\n",
      "| 1382 |          nan           |        nan        |     nan      | failed with error: ('Please check your objectives/constraints or use a different solver.', 'Solver status: unbounded') |       GordonGrowthReturn       | GaussianProcessRiskModel |           <class 'plugIn.optimization.py_portfolio_opt_frontier.PyPortfolioOptFrontier'>           |\n",
      "| 1397 |          nan           |        nan        |     nan      | failed with error: ('Please check your objectives/constraints or use a different solver.', 'Solver status: unbounded') |       GordonGrowthReturn       |      GraphicalLasso      |           <class 'plugIn.optimization.py_portfolio_opt_frontier.PyPortfolioOptFrontier'>           |\n",
      "| 1517 |          nan           |        nan        |     nan      | failed with error: ('Please check your objectives/constraints or use a different solver.', 'Solver status: unbounded') |       GordonGrowthReturn       | RegimeSwitchingRiskModel |           <class 'plugIn.optimization.py_portfolio_opt_frontier.PyPortfolioOptFrontier'>           |\n",
      "| 1803 |          nan           |        nan        |     nan      | failed with error: ('Please check your objectives/constraints or use a different solver.', 'Solver status: unbounded') |        RiskParityReturn        |     CopulaRiskModel      | <class 'plugIn.optimization.frontier_with_short_position.PyPortfolioOptFrontierWithShortPosition'> |\n",
      "| 1968 |          nan           |        nan        |     nan      | failed with error: ('Please check your objectives/constraints or use a different solver.', 'Solver status: unbounded') |        RiskParityReturn        | RegimeSwitchingRiskModel | <class 'plugIn.optimization.frontier_with_short_position.PyPortfolioOptFrontierWithShortPosition'> |\n",
      "+------+------------------------+-------------------+--------------+------------------------------------------------------------------------------------------------------------------------+--------------------------------+--------------------------+----------------------------------------------------------------------------------------------------+\n"
     ]
    }
   ],
   "execution_count": 18
  },
  {
   "cell_type": "code",
   "metadata": {
    "ExecuteTime": {
     "end_time": "2024-11-21T06:35:06.182731Z",
     "start_time": "2024-11-21T06:35:04.780822Z"
    }
   },
   "source": [
    "df1 = pd.read_pickle(\n",
    "    r\"D:\\PortfoliOpt\\data\\202301\\post_processing_weight.pkl\")\n",
    "valid_post_process = df1[~df1['Weights'].str.contains('error', na=False)]\n",
    "valid_post_process.to_excel(r\"D:\\PortfoliOpt\\data\\output.xlsx\", index=False)"
   ],
   "outputs": [],
   "execution_count": 19
  },
  {
   "metadata": {
    "ExecuteTime": {
     "end_time": "2024-11-21T08:04:52.553544Z",
     "start_time": "2024-11-21T08:04:49.155386Z"
    }
   },
   "cell_type": "code",
   "source": [
    "performance_df = pd.read_pickle(r\"D:\\PortfoliOpt\\data\\2023\\performance_metrics.pkl\")\n",
    "# print(tabulate(performance_df, headers='keys', tablefmt='pretty'))\n",
    "performance_df.to_excel(r\"D:\\PortfoliOpt\\data\\performance_df.xlsx\", index=False)"
   ],
   "outputs": [],
   "execution_count": 22
  },
  {
   "metadata": {},
   "cell_type": "code",
   "outputs": [],
   "execution_count": null,
   "source": ""
  }
 ],
 "metadata": {
  "accelerator": "GPU",
  "colab": {
   "authorship_tag": "ABX9TyNzyEI9oX2hT+fF9U3OQY+f",
   "gpuType": "T4",
   "include_colab_link": true,
   "provenance": []
  },
  "kernelspec": {
   "display_name": "Python 3 (ipykernel)",
   "language": "python",
   "name": "python3"
  },
  "language_info": {
   "codemirror_mode": {
    "name": "ipython",
    "version": 3
   },
   "file_extension": ".py",
   "mimetype": "text/x-python",
   "name": "python",
   "nbconvert_exporter": "python",
   "pygments_lexer": "ipython3",
   "version": "3.12.4"
  }
 },
 "nbformat": 4,
 "nbformat_minor": 0
}
