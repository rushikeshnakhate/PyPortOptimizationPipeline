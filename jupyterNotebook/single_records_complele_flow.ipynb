{
 "cells": [
  {
   "cell_type": "markdown",
   "metadata": {
    "id": "view-in-github",
    "colab_type": "text"
   },
   "source": [
    "<a href=\"https://colab.research.google.com/github/rushikeshnakhate/PortfoliOpt/blob/master/multiple_dates_expected_return_df_visualization.ipynb\" target=\"_parent\"><img src=\"https://colab.research.google.com/assets/colab-badge.svg\" alt=\"Open In Colab\"/></a>"
   ]
  },
  {
   "cell_type": "code",
   "metadata": {
    "id": "TIwekf_p2VYr",
    "colab": {
     "base_uri": "https://localhost:8080/"
    },
    "outputId": "21dcdce5-9c88-4100-f827-d2ac7413bd45",
    "ExecuteTime": {
     "end_time": "2024-11-02T05:31:29.966875Z",
     "start_time": "2024-11-02T05:31:29.940296Z"
    }
   },
   "source": [
    "# # Mount Google Drive\n",
    "# from google.colab import drive\n",
    "# drive.mount('/content/drive')\n",
    "\n",
    "# data_dir = Path(\"/content/drive/MyDrive/data\")\n",
    "# !pip install tqdm\n",
    "# !pip install PyPortfolioOpt\n",
    "# !pip install tabulate\n",
    "# !pip install dtale\n",
    "# !pip install -q data-table\n",
    "# from google.colab import data_table"
   ],
   "outputs": [],
   "execution_count": 10
  },
  {
   "cell_type": "code",
   "metadata": {
    "id": "yQypJYR_3ZKx",
    "ExecuteTime": {
     "end_time": "2024-11-02T05:31:30.164499Z",
     "start_time": "2024-11-02T05:31:30.158015Z"
    }
   },
   "source": [
    "import os\n",
    "from pathlib import Path\n",
    "import pandas as pd\n",
    "from tabulate import tabulate\n",
    "data_dir = Path(r\"D:\\PortfoliOpt\\data\")"
   ],
   "outputs": [],
   "execution_count": 11
  },
  {
   "metadata": {
    "ExecuteTime": {
     "end_time": "2024-11-02T05:31:30.498759Z",
     "start_time": "2024-11-02T05:31:30.473745Z"
    }
   },
   "cell_type": "code",
   "source": [
    "def load_all_pickles_to_dfs(directory):\n",
    "    \"\"\"\n",
    "    Reads all .pkl files in the specified directory and loads each file into a DataFrame.\n",
    "    \n",
    "    Parameters:\n",
    "    - directory (str): The path to the directory containing .pkl files.\n",
    "\n",
    "    Returns:\n",
    "    - dict: A dictionary where keys are file names without extensions and values are DataFrames.\n",
    "    \"\"\"\n",
    "    dataframes = {}\n",
    "    for filename in os.listdir(directory):\n",
    "        if filename.endswith(\".pkl\"):\n",
    "            file_path = os.path.join(directory, filename)\n",
    "            try:\n",
    "                df = pd.read_pickle(file_path)\n",
    "                dataframes[filename[:-4]] = df  # Using filename without .pkl extension as the key\n",
    "            except Exception as e:\n",
    "                print(f\"Error reading {filename}: {e}\")\n",
    "    return dataframes"
   ],
   "outputs": [],
   "execution_count": 12
  },
  {
   "metadata": {
    "ExecuteTime": {
     "end_time": "2024-11-02T05:31:31.620358Z",
     "start_time": "2024-11-02T05:31:31.610870Z"
    }
   },
   "cell_type": "code",
   "source": [
    "from datetime import datetime, timedelta\n",
    "\n",
    "\n",
    "def generate_month_date_ranges(year, months=None):\n",
    "    if months is None:\n",
    "        months = range(1, 13)  # Default to all months if none specified\n",
    "\n",
    "    month_ranges = []\n",
    "    for month in months:\n",
    "        start_date = datetime(year, month, 1).date()\n",
    "        if month == 12:\n",
    "            end_date = (datetime(year + 1, 1, 1) - timedelta(days=1)).date()\n",
    "        else:\n",
    "            end_date = (datetime(year, month + 1, 1) - timedelta(days=1)).date()\n",
    "        month_ranges.append((start_date, end_date))\n",
    "    return month_ranges\n",
    "\n",
    "\n",
    "def create_current_month_directory(start_date):\n",
    "    current_month = start_date.strftime(\"%Y%m\")\n",
    "    current_month_dir = data_dir / current_month\n",
    "    return current_month_dir"
   ],
   "outputs": [],
   "execution_count": 13
  },
  {
   "metadata": {
    "ExecuteTime": {
     "end_time": "2024-11-02T05:31:33.702735Z",
     "start_time": "2024-11-02T05:31:32.026854Z"
    }
   },
   "cell_type": "code",
   "source": [
    "if __name__ == \"__main__\":\n",
    "    year = 2023\n",
    "    alternate_months = [1]\n",
    "    month_ranges = generate_month_date_ranges(year, months=alternate_months)\n",
    "\n",
    "    for start_date, end_date in month_ranges:\n",
    "        all_pkl_file_dir = create_current_month_directory(start_date=start_date)\n",
    "        all_dfs =load_all_pickles_to_dfs(all_pkl_file_dir)\n",
    "        for file_name, df in all_dfs.items():\n",
    "            print(f\"DataFrame from {file_name}.pkl\")\n",
    "            # print(df)\n",
    "            print(tabulate(df, headers='keys', tablefmt='pretty')) "
   ],
   "outputs": [
    {
     "name": "stdout",
     "output_type": "stream",
     "text": [
      "DataFrame from covariance_CopulaRiskModel.pkl\n",
      "+-------------+------------------------+-----------------------+\n",
      "|   Ticker    |      HDFCBANK.NS       |      RELIANCE.NS      |\n",
      "+-------------+------------------------+-----------------------+\n",
      "| HDFCBANK.NS | 4.2683922733286275e-05 | -6.14845936122342e-06 |\n",
      "| RELIANCE.NS | -6.14845936122342e-06  | 6.982686007301155e-05 |\n",
      "+-------------+------------------------+-----------------------+\n",
      "DataFrame from covariance_ExponentialCovariance.pkl\n",
      "+-------------+----------------------+----------------------+\n",
      "|   Ticker    |     HDFCBANK.NS      |     RELIANCE.NS      |\n",
      "+-------------+----------------------+----------------------+\n",
      "| HDFCBANK.NS | 0.04236279210309354  | 0.013217100927791691 |\n",
      "| RELIANCE.NS | 0.013217100927791691 | 0.033040441781864265 |\n",
      "+-------------+----------------------+----------------------+\n",
      "DataFrame from covariance_GaussianProcessRiskModel.pkl\n",
      "+-------------+------------------------+------------------------+\n",
      "|   Ticker    |      HDFCBANK.NS       |      RELIANCE.NS       |\n",
      "+-------------+------------------------+------------------------+\n",
      "| HDFCBANK.NS | 1.0000000413701846e-05 |          0.0           |\n",
      "| RELIANCE.NS |          0.0           | 1.0000000413701846e-05 |\n",
      "+-------------+------------------------+------------------------+\n",
      "DataFrame from covariance_GraphicalLasso.pkl\n",
      "+-------------+-----------------------+------------------------+\n",
      "|   Ticker    |      HDFCBANK.NS      |      RELIANCE.NS       |\n",
      "+-------------+-----------------------+------------------------+\n",
      "| HDFCBANK.NS | 0.0001646378457052896 |          0.0           |\n",
      "| RELIANCE.NS |          0.0          | 0.00013263265365958914 |\n",
      "+-------------+-----------------------+------------------------+\n",
      "DataFrame from covariance_KMeansClustering.pkl\n",
      "+-------------+------------------------+------------------------+\n",
      "|   Ticker    |      HDFCBANK.NS       |      RELIANCE.NS       |\n",
      "+-------------+------------------------+------------------------+\n",
      "| HDFCBANK.NS | 0.0001737843926889168  | 5.3794966675764826e-05 |\n",
      "| RELIANCE.NS | 5.3794966675764826e-05 | 0.00014000113441845518 |\n",
      "+-------------+------------------------+------------------------+\n",
      "DataFrame from covariance_LedoitWolfConstantCorrelation.pkl\n",
      "+-------------+----------------------+----------------------+\n",
      "|   Ticker    |     HDFCBANK.NS      |     RELIANCE.NS      |\n",
      "+-------------+----------------------+----------------------+\n",
      "| HDFCBANK.NS | 0.04379366695760703  | 0.013556331602292734 |\n",
      "| RELIANCE.NS | 0.013556331602292734 | 0.03528028587345071  |\n",
      "+-------------+----------------------+----------------------+\n",
      "DataFrame from covariance_LedoitWolfConstantVariance.pkl\n",
      "+-------------+-----------------------+-----------------------+\n",
      "|   Ticker    |      HDFCBANK.NS      |      RELIANCE.NS      |\n",
      "+-------------+-----------------------+-----------------------+\n",
      "| HDFCBANK.NS |  0.03780969915411962  | 0.0011261657108110707 |\n",
      "| RELIANCE.NS | 0.0011261657108110707 | 0.037102466685829824  |\n",
      "+-------------+-----------------------+-----------------------+\n",
      "DataFrame from covariance_LedoitWolfShrinkage.pkl\n",
      "+-------------+-----------------------+-----------------------+\n",
      "|   Ticker    |      HDFCBANK.NS      |      RELIANCE.NS      |\n",
      "+-------------+-----------------------+-----------------------+\n",
      "| HDFCBANK.NS |  0.03780969915411962  | 0.0011261657108110707 |\n",
      "| RELIANCE.NS | 0.0011261657108110707 | 0.037102466685829824  |\n",
      "+-------------+-----------------------+-----------------------+\n",
      "DataFrame from covariance_LedoitWolfSingleFactor.pkl\n",
      "+-------------+----------------------+----------------------+\n",
      "|   Ticker    |     HDFCBANK.NS      |     RELIANCE.NS      |\n",
      "+-------------+----------------------+----------------------+\n",
      "| HDFCBANK.NS | 0.04148873711773298  | 0.013587129512495381 |\n",
      "| RELIANCE.NS | 0.013587129512495381 | 0.03342342872221646  |\n",
      "+-------------+----------------------+----------------------+\n",
      "DataFrame from covariance_OracleApproximatingShrinkage.pkl\n",
      "+-------------+---------------------+---------------------+\n",
      "|   Ticker    |     HDFCBANK.NS     |     RELIANCE.NS     |\n",
      "+-------------+---------------------+---------------------+\n",
      "| HDFCBANK.NS | 0.03745608291997472 |         0.0         |\n",
      "| RELIANCE.NS |         0.0         | 0.03745608291997472 |\n",
      "+-------------+---------------------+---------------------+\n",
      "DataFrame from covariance_RandomForestVolatility.pkl\n",
      "+-------------+---------------------+----------------------+\n",
      "|   Ticker    |     HDFCBANK.NS     |     RELIANCE.NS      |\n",
      "+-------------+---------------------+----------------------+\n",
      "| HDFCBANK.NS | 0.01098446708693037 |         0.0          |\n",
      "| RELIANCE.NS |         0.0         | 0.005157016009083042 |\n",
      "+-------------+---------------------+----------------------+\n",
      "DataFrame from covariance_RegimeSwitchingRiskModel.pkl\n",
      "+-------------+------------------------+-----------------------+\n",
      "|   Ticker    |      HDFCBANK.NS       |      RELIANCE.NS      |\n",
      "+-------------+------------------------+-----------------------+\n",
      "| HDFCBANK.NS | 4.2683922733286275e-05 | -6.14845936122342e-06 |\n",
      "| RELIANCE.NS | -6.14845936122342e-06  | 6.982686007301155e-05 |\n",
      "+-------------+------------------------+-----------------------+\n",
      "DataFrame from covariance_SampleCovariance.pkl\n",
      "+-------------+----------------------+----------------------+\n",
      "|   Ticker    |     HDFCBANK.NS      |     RELIANCE.NS      |\n",
      "+-------------+----------------------+----------------------+\n",
      "| HDFCBANK.NS | 0.04379366695760703  | 0.013556331602292736 |\n",
      "| RELIANCE.NS | 0.013556331602292736 | 0.03528028587345071  |\n",
      "+-------------+----------------------+----------------------+\n",
      "DataFrame from covariance_SemiCovariance.pkl\n",
      "+-------------+----------------------+----------------------+\n",
      "|   Ticker    |     HDFCBANK.NS      |     RELIANCE.NS      |\n",
      "+-------------+----------------------+----------------------+\n",
      "| HDFCBANK.NS | 0.026206518302925856 | 0.018780389797169027 |\n",
      "| RELIANCE.NS | 0.018780389797169027 | 0.026527077266734613 |\n",
      "+-------------+----------------------+----------------------+\n",
      "DataFrame from covariance_SVMVolatility.pkl\n",
      "+-------------+----------------------+----------------------+\n",
      "|   Ticker    |     HDFCBANK.NS      |     RELIANCE.NS      |\n",
      "+-------------+----------------------+----------------------+\n",
      "| HDFCBANK.NS | 0.012507469177496885 |         0.0          |\n",
      "| RELIANCE.NS |         0.0          | 0.012507469177496885 |\n",
      "+-------------+----------------------+----------------------+\n",
      "DataFrame from expected_return_all_type.pkl\n",
      "+-------------+---------------------+--------------------------------+---------------------+--------------------------+----------------------+---------------------+--------------------+------------------------+---------------------+-----+\n",
      "|             |     ARIMAReturn     | ArithmeticMeanHistoricalReturn |     CAPMReturn      | CAGRMeanHistoricalReturn | EMAHistoricalReturn  |  FamaFrenchReturn   | GordonGrowthReturn | LinearRegressionReturn |  RiskParityReturn   |  0  |\n",
      "+-------------+---------------------+--------------------------------+---------------------+--------------------------+----------------------+---------------------+--------------------+------------------------+---------------------+-----+\n",
      "| HDFCBANK.NS | -0.9909148666056561 |      -0.0981364540222842       | -0.5087999146429509 |   -0.1122083631497387    | -0.09296969027623869 | -0.0681364540222842 |       0.4092       | -0.026007433634052557  | -0.0981364540222842 | 0.0 |\n",
      "| RELIANCE.NS |  4.253692615396931  |      -1.1430593497592978       | -0.430301653027081  |   -0.6872739207363383    | -0.6835973854902626  | -1.1130593497592978 |      -0.0442       |  -0.7914236505641645   | -1.1430593497592978 | 0.0 |\n",
      "+-------------+---------------------+--------------------------------+---------------------+--------------------------+----------------------+---------------------+--------------------+------------------------+---------------------+-----+\n",
      "DataFrame from expected_return_ARIMAReturn.pkl\n",
      "+-------------+---------------------+\n",
      "|   ticker    |     ARIMAReturn     |\n",
      "+-------------+---------------------+\n",
      "| HDFCBANK.NS | -0.9909148666056561 |\n",
      "| RELIANCE.NS |  4.253692615396931  |\n",
      "+-------------+---------------------+\n",
      "DataFrame from expected_return_ArithmeticMeanHistoricalReturn.pkl\n",
      "+-------------+--------------------------------+\n",
      "|   ticker    | ArithmeticMeanHistoricalReturn |\n",
      "+-------------+--------------------------------+\n",
      "| HDFCBANK.NS |      -0.0981364540222842       |\n",
      "| RELIANCE.NS |      -1.1430593497592978       |\n",
      "+-------------+--------------------------------+\n",
      "DataFrame from expected_return_BlackLittermanReturn.pkl\n",
      "\n",
      "DataFrame from expected_return_CAGRMeanHistoricalReturn.pkl\n",
      "+-------------+--------------------------+\n",
      "|   ticker    | CAGRMeanHistoricalReturn |\n",
      "+-------------+--------------------------+\n",
      "| HDFCBANK.NS |   -0.1122083631497387    |\n",
      "| RELIANCE.NS |   -0.6872739207363383    |\n",
      "+-------------+--------------------------+\n",
      "DataFrame from expected_return_CAPMReturn.pkl\n",
      "+-------------+---------------------+\n",
      "|   ticker    |     CAPMReturn      |\n",
      "+-------------+---------------------+\n",
      "| HDFCBANK.NS | -0.5087999146429509 |\n",
      "| RELIANCE.NS | -0.430301653027081  |\n",
      "+-------------+---------------------+\n",
      "DataFrame from expected_return_EMAHistoricalReturn.pkl\n",
      "+-------------+----------------------+\n",
      "|   ticker    | EMAHistoricalReturn  |\n",
      "+-------------+----------------------+\n",
      "| HDFCBANK.NS | -0.09296969027623869 |\n",
      "| RELIANCE.NS | -0.6835973854902626  |\n",
      "+-------------+----------------------+\n",
      "DataFrame from expected_return_FamaFrenchReturn.pkl\n",
      "+-------------+---------------------+\n",
      "|   ticker    |  FamaFrenchReturn   |\n",
      "+-------------+---------------------+\n",
      "| HDFCBANK.NS | -0.0681364540222842 |\n",
      "| RELIANCE.NS | -1.1130593497592978 |\n",
      "+-------------+---------------------+\n",
      "DataFrame from expected_return_GordonGrowthReturn.pkl\n",
      "+-------------+--------------------+\n",
      "|   ticker    | GordonGrowthReturn |\n",
      "+-------------+--------------------+\n",
      "| HDFCBANK.NS |       0.4092       |\n",
      "| RELIANCE.NS |      -0.0442       |\n",
      "+-------------+--------------------+\n",
      "DataFrame from expected_return_LinearRegressionReturn.pkl\n",
      "+-------------+------------------------+\n",
      "|   ticker    | LinearRegressionReturn |\n",
      "+-------------+------------------------+\n",
      "| HDFCBANK.NS | -0.026007433634052557  |\n",
      "| RELIANCE.NS |  -0.7914236505641645   |\n",
      "+-------------+------------------------+\n",
      "DataFrame from expected_return_RiskParityReturn.pkl\n",
      "+-------------+---------------------+\n",
      "|   ticker    |  RiskParityReturn   |\n",
      "+-------------+---------------------+\n",
      "| HDFCBANK.NS | -0.0981364540222842 |\n",
      "| RELIANCE.NS | -1.1430593497592978 |\n",
      "+-------------+---------------------+\n",
      "DataFrame from expected_return_TWRRReturn.pkl\n"
     ]
    },
    {
     "ename": "TypeError",
     "evalue": "'numpy.float64' object is not iterable",
     "output_type": "error",
     "traceback": [
      "\u001B[1;31m---------------------------------------------------------------------------\u001B[0m",
      "\u001B[1;31mTypeError\u001B[0m                                 Traceback (most recent call last)",
      "Cell \u001B[1;32mIn[14], line 12\u001B[0m\n\u001B[0;32m     10\u001B[0m \u001B[38;5;28mprint\u001B[39m(\u001B[38;5;124mf\u001B[39m\u001B[38;5;124m\"\u001B[39m\u001B[38;5;124mDataFrame from \u001B[39m\u001B[38;5;132;01m{\u001B[39;00mfile_name\u001B[38;5;132;01m}\u001B[39;00m\u001B[38;5;124m.pkl\u001B[39m\u001B[38;5;124m\"\u001B[39m)\n\u001B[0;32m     11\u001B[0m \u001B[38;5;66;03m# print(df)\u001B[39;00m\n\u001B[1;32m---> 12\u001B[0m \u001B[38;5;28mprint\u001B[39m(\u001B[43mtabulate\u001B[49m\u001B[43m(\u001B[49m\u001B[43mdf\u001B[49m\u001B[43m,\u001B[49m\u001B[43m \u001B[49m\u001B[43mheaders\u001B[49m\u001B[38;5;241;43m=\u001B[39;49m\u001B[38;5;124;43m'\u001B[39;49m\u001B[38;5;124;43mkeys\u001B[39;49m\u001B[38;5;124;43m'\u001B[39;49m\u001B[43m,\u001B[49m\u001B[43m \u001B[49m\u001B[43mtablefmt\u001B[49m\u001B[38;5;241;43m=\u001B[39;49m\u001B[38;5;124;43m'\u001B[39;49m\u001B[38;5;124;43mpretty\u001B[39;49m\u001B[38;5;124;43m'\u001B[39;49m\u001B[43m)\u001B[49m) \n",
      "File \u001B[1;32mD:\\PortfoliOpt\\venv\\Lib\\site-packages\\tabulate\\__init__.py:2048\u001B[0m, in \u001B[0;36mtabulate\u001B[1;34m(tabular_data, headers, tablefmt, floatfmt, intfmt, numalign, stralign, missingval, showindex, disable_numparse, colalign, maxcolwidths, rowalign, maxheadercolwidths)\u001B[0m\n\u001B[0;32m   2045\u001B[0m \u001B[38;5;28;01mif\u001B[39;00m tabular_data \u001B[38;5;129;01mis\u001B[39;00m \u001B[38;5;28;01mNone\u001B[39;00m:\n\u001B[0;32m   2046\u001B[0m     tabular_data \u001B[38;5;241m=\u001B[39m []\n\u001B[1;32m-> 2048\u001B[0m list_of_lists, headers \u001B[38;5;241m=\u001B[39m \u001B[43m_normalize_tabular_data\u001B[49m\u001B[43m(\u001B[49m\n\u001B[0;32m   2049\u001B[0m \u001B[43m    \u001B[49m\u001B[43mtabular_data\u001B[49m\u001B[43m,\u001B[49m\u001B[43m \u001B[49m\u001B[43mheaders\u001B[49m\u001B[43m,\u001B[49m\u001B[43m \u001B[49m\u001B[43mshowindex\u001B[49m\u001B[38;5;241;43m=\u001B[39;49m\u001B[43mshowindex\u001B[49m\n\u001B[0;32m   2050\u001B[0m \u001B[43m\u001B[49m\u001B[43m)\u001B[49m\n\u001B[0;32m   2051\u001B[0m list_of_lists, separating_lines \u001B[38;5;241m=\u001B[39m _remove_separating_lines(list_of_lists)\n\u001B[0;32m   2053\u001B[0m \u001B[38;5;28;01mif\u001B[39;00m maxcolwidths \u001B[38;5;129;01mis\u001B[39;00m \u001B[38;5;129;01mnot\u001B[39;00m \u001B[38;5;28;01mNone\u001B[39;00m:\n",
      "File \u001B[1;32mD:\\PortfoliOpt\\venv\\Lib\\site-packages\\tabulate\\__init__.py:1371\u001B[0m, in \u001B[0;36m_normalize_tabular_data\u001B[1;34m(tabular_data, headers, showindex)\u001B[0m\n\u001B[0;32m   1369\u001B[0m     \u001B[38;5;66;03m# for DataFrames add an index per default\u001B[39;00m\n\u001B[0;32m   1370\u001B[0m     index \u001B[38;5;241m=\u001B[39m \u001B[38;5;28mlist\u001B[39m(tabular_data\u001B[38;5;241m.\u001B[39mindex)\n\u001B[1;32m-> 1371\u001B[0m     rows \u001B[38;5;241m=\u001B[39m [\u001B[38;5;28;43mlist\u001B[39;49m\u001B[43m(\u001B[49m\u001B[43mrow\u001B[49m\u001B[43m)\u001B[49m \u001B[38;5;28;01mfor\u001B[39;00m row \u001B[38;5;129;01min\u001B[39;00m vals]\n\u001B[0;32m   1372\u001B[0m \u001B[38;5;28;01melse\u001B[39;00m:\n\u001B[0;32m   1373\u001B[0m     \u001B[38;5;28;01mraise\u001B[39;00m \u001B[38;5;167;01mValueError\u001B[39;00m(\u001B[38;5;124m\"\u001B[39m\u001B[38;5;124mtabular data doesn\u001B[39m\u001B[38;5;124m'\u001B[39m\u001B[38;5;124mt appear to be a dict or a DataFrame\u001B[39m\u001B[38;5;124m\"\u001B[39m)\n",
      "\u001B[1;31mTypeError\u001B[0m: 'numpy.float64' object is not iterable"
     ]
    }
   ],
   "execution_count": 14
  },
  {
   "metadata": {},
   "cell_type": "markdown",
   "source": ""
  },
  {
   "metadata": {
    "ExecuteTime": {
     "end_time": "2024-10-27T08:13:28.211575Z",
     "start_time": "2024-10-27T08:13:28.197650Z"
    }
   },
   "cell_type": "code",
   "source": "",
   "outputs": [],
   "execution_count": null
  },
  {
   "metadata": {
    "ExecuteTime": {
     "end_time": "2024-10-27T08:13:28.236566Z",
     "start_time": "2024-10-27T08:13:28.229334Z"
    }
   },
   "cell_type": "code",
   "source": "",
   "outputs": [],
   "execution_count": null
  },
  {
   "metadata": {
    "ExecuteTime": {
     "end_time": "2024-10-27T08:13:28.297499Z",
     "start_time": "2024-10-27T08:13:28.291993Z"
    }
   },
   "cell_type": "code",
   "source": "",
   "outputs": [],
   "execution_count": null
  }
 ],
 "metadata": {
  "colab": {
   "provenance": [],
   "gpuType": "T4",
   "authorship_tag": "ABX9TyNzyEI9oX2hT+fF9U3OQY+f",
   "include_colab_link": true
  },
  "kernelspec": {
   "display_name": "Python 3 (ipykernel)",
   "name": "python3",
   "language": "python"
  },
  "language_info": {
   "name": "python"
  },
  "accelerator": "GPU"
 },
 "nbformat": 4,
 "nbformat_minor": 0
}
